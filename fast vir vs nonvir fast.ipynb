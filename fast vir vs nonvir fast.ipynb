{
 "cells": [
  {
   "cell_type": "code",
   "execution_count": 1,
   "metadata": {},
   "outputs": [],
   "source": [
    "import numpy as np\n",
    "import matplotlib.pyplot as plt\n",
    "from scipy import stats\n"
   ]
  },
  {
   "cell_type": "code",
   "execution_count": 2,
   "metadata": {},
   "outputs": [
    {
     "name": "stderr",
     "output_type": "stream",
     "text": [
      "c:\\users\\adp-0\\appdata\\local\\programs\\python\\python37-32\\lib\\site-packages\\ipykernel_launcher.py:1: VisibleDeprecationWarning: Reading unicode strings without specifying the encoding argument is deprecated. Set the encoding, use None for the system default.\n",
      "  \"\"\"Entry point for launching an IPython kernel.\n",
      "c:\\users\\adp-0\\appdata\\local\\programs\\python\\python37-32\\lib\\site-packages\\ipykernel_launcher.py:2: VisibleDeprecationWarning: Reading unicode strings without specifying the encoding argument is deprecated. Set the encoding, use None for the system default.\n",
      "  \n",
      "c:\\users\\adp-0\\appdata\\local\\programs\\python\\python37-32\\lib\\site-packages\\ipykernel_launcher.py:3: VisibleDeprecationWarning: Reading unicode strings without specifying the encoding argument is deprecated. Set the encoding, use None for the system default.\n",
      "  This is separate from the ipykernel package so we can avoid doing imports until\n"
     ]
    }
   ],
   "source": [
    "data_virgo = np.genfromtxt('placeofgals.txt',dtype=None,skip_header=3)\n",
    "data_speed = np.genfromtxt('typeofgals.txt',dtype=None,skip_header=3)\n",
    "data_shape = np.genfromtxt('shapeofgals.txt',dtype=None,skip_header=3)\n",
    "\n"
   ]
  },
  {
   "cell_type": "code",
   "execution_count": 3,
   "metadata": {},
   "outputs": [],
   "source": [
    "ID, virgo_true, speed,eli = data_virgo['f0'], data_virgo['f5'], data_speed['f9'], data_shape['f3']\n",
    "# print(ID, virgo_true)\n",
    "vir_fast = np.where((virgo_true==1) & (speed==b'F'))[0]\n",
    "non_vir_fast = np.where((virgo_true==0) & (speed==b'F'))[0]\n",
    "\n",
    "#vir_spe = np.where(speed==b'F')[0]\n",
    "#vir_type = np.where()"
   ]
  },
  {
   "cell_type": "code",
   "execution_count": 4,
   "metadata": {
    "scrolled": true
   },
   "outputs": [
    {
     "name": "stdout",
     "output_type": "stream",
     "text": [
      "[0.65 0.71 0.12 0.08 0.56 0.07 0.42 0.58 0.6  0.48 0.18 0.16 0.25 0.37\n",
      " 0.65 0.67 0.52 0.32 0.6  0.73 0.21 0.61 0.43 0.42 0.14 0.17 0.51 0.15\n",
      " 0.09 0.54 0.76 0.25 0.53 0.73 0.29 0.25 0.07 0.32 0.32 0.67 0.06 0.39\n",
      " 0.12 0.16 0.3  0.52 0.75 0.06 0.48]\n",
      "[0.56 0.67 0.25 0.71 0.28 0.64 0.43 0.57 0.12 0.1  0.64 0.66 0.05 0.47\n",
      " 0.22 0.29 0.35 0.22 0.63 0.51 0.15 0.25 0.41 0.46 0.69 0.41 0.21 0.32\n",
      " 0.07 0.4  0.28 0.54 0.14 0.49 0.57 0.2  0.24 0.14 0.15 0.36 0.41 0.45\n",
      " 0.37 0.17 0.12 0.77 0.5  0.2  0.09 0.17 0.61 0.46 0.4  0.69 0.33 0.13\n",
      " 0.5  0.44 0.44 0.01 0.29 0.45 0.13 0.53 0.46 0.08 0.4  0.13 0.19 0.46\n",
      " 0.09 0.33 0.66 0.15 0.11 0.44 0.16 0.22 0.64 0.18 0.15 0.56 0.25 0.35\n",
      " 0.22 0.75 0.6  0.56 0.79 0.4  0.33 0.11 0.64 0.55 0.05 0.48 0.49 0.58\n",
      " 0.19 0.55 0.55 0.09 0.51 0.04 0.64 0.06 0.14 0.73 0.52 0.63 0.32 0.5\n",
      " 0.83 0.37 0.35 0.13 0.16 0.8  0.54 0.48 0.32 0.62 0.66 0.79 0.21 0.7\n",
      " 0.26 0.2  0.2  0.47 0.48 0.35 0.55 0.1  0.37 0.06 0.62 0.12 0.31 0.68\n",
      " 0.68 0.58 0.32 0.75 0.12 0.11 0.32 0.45 0.67 0.11 0.47 0.36 0.74 0.47\n",
      " 0.33 0.24 0.59 0.72 0.12 0.33 0.39 0.64 0.51 0.16 0.45 0.2  0.28 0.29\n",
      " 0.09 0.61 0.12 0.45 0.49 0.63 0.25]\n"
     ]
    }
   ],
   "source": [
    "print(eli[vir_fast])\n",
    "print(eli[non_vir_fast])\n",
    "#print(vir_spe)\n",
    "#print(speed)"
   ]
  },
  {
   "cell_type": "code",
   "execution_count": 5,
   "metadata": {},
   "outputs": [
    {
     "data": {
      "text/plain": [
       "Ks_2sampResult(statistic=0.0791836734693877, pvalue=0.9634094441610371)"
      ]
     },
     "execution_count": 5,
     "metadata": {},
     "output_type": "execute_result"
    }
   ],
   "source": [
    "stats.ks_2samp(eli[vir_fast],eli[non_vir_fast])"
   ]
  },
  {
   "cell_type": "code",
   "execution_count": 6,
   "metadata": {},
   "outputs": [
    {
     "data": {
      "text/plain": [
       "260"
      ]
     },
     "execution_count": 6,
     "metadata": {},
     "output_type": "execute_result"
    }
   ],
   "source": [
    "len(virgo_true)"
   ]
  },
  {
   "cell_type": "code",
   "execution_count": 7,
   "metadata": {},
   "outputs": [
    {
     "name": "stdout",
     "output_type": "stream",
     "text": [
      "(260,)\n"
     ]
    }
   ],
   "source": [
    "print(data_virgo.shape)"
   ]
  },
  {
   "cell_type": "code",
   "execution_count": 16,
   "metadata": {},
   "outputs": [
    {
     "name": "stderr",
     "output_type": "stream",
     "text": [
      "WARNING: AstroMLDeprecationWarning: The hist function is deprecated and may be removed in a future version.\n",
      "        Use astropy.visualization.hist instead. [warnings]\n",
      "WARNING: AstroMLDeprecationWarning: The hist function is deprecated and may be removed in a future version.\n",
      "        Use astropy.visualization.hist instead. [warnings]\n"
     ]
    },
    {
     "data": {
      "image/png": "[encoded data removed]",
      "text/plain": [
       "<Figure size 864x720 with 1 Axes>"
      ]
     },
     "metadata": {
      "needs_background": "light"
     },
     "output_type": "display_data"
    }
   ],
   "source": [
    "from astroML.plotting import hist\n",
    "plt.figure(figsize=(12,10))\n",
    "hist(eli[vir_fast], bins='freedman', alpha = 0.5, label='virgo fast', ec='k')\n",
    "hist(eli[non_vir_fast], bins='freedman', alpha = 0.5, label='non virgo fast', ec='k')\n",
    "plt.xlabel('Ellipticity')\n",
    "plt.ylabel('Number of galaxies')\n",
    "plt.show()"
   ]
  },
  {
   "cell_type": "code",
   "execution_count": null,
   "metadata": {},
   "outputs": [],
   "source": []
  }
 ],
 "metadata": {
  "kernelspec": {
   "display_name": "Python 3",
   "language": "python",
   "name": "python3"
  },
  "language_info": {
   "codemirror_mode": {
    "name": "ipython",
    "version": 3
   },
   "file_extension": ".py",
   "mimetype": "text/x-python",
   "name": "python",
   "nbconvert_exporter": "python",
   "pygments_lexer": "ipython3",
   "version": "3.7.4"
  }
 },
 "nbformat": 4,
 "nbformat_minor": 4
}
